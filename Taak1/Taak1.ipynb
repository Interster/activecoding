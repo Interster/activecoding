{
 "cells": [
  {
   "cell_type": "markdown",
   "metadata": {},
   "source": [
    " # Taak 1/Task 1\n",
    " Hierdie vrae is oefeninge vir die eerste lesing.\n",
    "\n",
    " These excercises serve the purpose of revision of the first lecture.\n",
    " ## Vraag 1/Question 1\n",
    " Maak 'n sel wat grade Fahrenheit in Celcius omskakel en gebruik die volgende formule\n",
    "\n",
    " Create a cell that converts Fahrentheit to Celcius and use the following equation\n",
    "\n",
    " $$ C = \\frac{5}{9} (F - 32)$$\n",
    " Gebruik veranderlikes in 'n Jupyter notebook asook die print() stelling\n",
    "\n",
    " Use variables in a Jupyter notebook as well as the print() statement\n",
    " ## Vraag 2/Question 2\n",
    " Skryf nou jou eie sel waarin jy toets of die punt van 'n student 'n druip, slaagsyfer of onderskeiding is. Gebruik 'n if stelling.  Stoor die punt in 'n veranderlike met 'n gepaste naam.\n",
    "\n",
    " Write your own cell in a jupyter notebook where you check whether the mark attained by a student is a pass, fail or distinction mark.  Use an if statement.  Put the mark of the student in a variable with a suitable name.\n",
    " ## Vraag 3/Question 3\n",
    " Maak nou deur van 'n for lus te gebruik jou eie piramiede deur die print stelling te gebruik. Die piramiede moet as volg lyk:\n",
    "\n",
    " Use a for loop and construct a pyramid from text asterisks by using the print statement.\n",
    "\n",
    " \\*\n",
    "\n",
    " \\*\\*\n",
    "\n",
    " \\*\\*\\*\n",
    "\n",
    " \\*\\*\\*\\*\n",
    "\n",
    " \\*\\*\\*\\*\\*\n",
    "\n",
    " Varieer die piramiede se hoogte deur 'n veranderlike te gebruik. Maak dit dan 'n hoogte van 10.\n",
    "\n",
    " Vary the height of the pyramid by using a variable and then adjust the height to be 10 levels."
   ]
  }
 ],
 "metadata": {
  "kernelspec": {
   "display_name": "Python 3",
   "language": "python",
   "name": "python3"
  },
  "language_info": {
   "codemirror_mode": {
    "name": "ipython",
    "version": 3
   },
   "file_extension": ".py",
   "mimetype": "text/x-python",
   "name": "python",
   "nbconvert_exporter": "python",
   "pygments_lexer": "ipython3",
   "version": "3.7.6"
  }
 },
 "nbformat": 4,
 "nbformat_minor": 2
}
